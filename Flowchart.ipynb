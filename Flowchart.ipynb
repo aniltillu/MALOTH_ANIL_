{
  "cells": [
    {
      "cell_type": "markdown",
      "metadata": {
        "id": "view-in-github",
        "colab_type": "text"
      },
      "source": [
        "<a href=\"https://colab.research.google.com/github/aniltillu/MALOTH_ANIL_/blob/main/Flowchart.ipynb\" target=\"_parent\"><img src=\"https://colab.research.google.com/assets/colab-badge.svg\" alt=\"Open In Colab\"/></a>"
      ]
    },
    {
      "cell_type": "code",
      "execution_count": null,
      "metadata": {
        "colab": {
          "base_uri": "https://localhost:8080/"
        },
        "id": "8uzCSgfAtF5o",
        "outputId": "eabda7ba-5730-48e0-a2ee-6c122e4c2f43"
      },
      "outputs": [
        {
          "output_type": "stream",
          "name": "stdout",
          "text": [
            "Requirement already satisfied: flask in /usr/local/lib/python3.11/dist-packages (3.1.1)\n",
            "Collecting flask-ngrok\n",
            "  Downloading flask_ngrok-0.0.25-py3-none-any.whl.metadata (1.8 kB)\n",
            "Requirement already satisfied: blinker>=1.9.0 in /usr/local/lib/python3.11/dist-packages (from flask) (1.9.0)\n",
            "Requirement already satisfied: click>=8.1.3 in /usr/local/lib/python3.11/dist-packages (from flask) (8.2.1)\n",
            "Requirement already satisfied: itsdangerous>=2.2.0 in /usr/local/lib/python3.11/dist-packages (from flask) (2.2.0)\n",
            "Requirement already satisfied: jinja2>=3.1.2 in /usr/local/lib/python3.11/dist-packages (from flask) (3.1.6)\n",
            "Requirement already satisfied: markupsafe>=2.1.1 in /usr/local/lib/python3.11/dist-packages (from flask) (3.0.2)\n",
            "Requirement already satisfied: werkzeug>=3.1.0 in /usr/local/lib/python3.11/dist-packages (from flask) (3.1.3)\n",
            "Requirement already satisfied: requests in /usr/local/lib/python3.11/dist-packages (from flask-ngrok) (2.32.3)\n",
            "Requirement already satisfied: charset-normalizer<4,>=2 in /usr/local/lib/python3.11/dist-packages (from requests->flask-ngrok) (3.4.2)\n",
            "Requirement already satisfied: idna<4,>=2.5 in /usr/local/lib/python3.11/dist-packages (from requests->flask-ngrok) (3.10)\n",
            "Requirement already satisfied: urllib3<3,>=1.21.1 in /usr/local/lib/python3.11/dist-packages (from requests->flask-ngrok) (2.4.0)\n",
            "Requirement already satisfied: certifi>=2017.4.17 in /usr/local/lib/python3.11/dist-packages (from requests->flask-ngrok) (2025.4.26)\n",
            "Downloading flask_ngrok-0.0.25-py3-none-any.whl (3.1 kB)\n",
            "Installing collected packages: flask-ngrok\n",
            "Successfully installed flask-ngrok-0.0.25\n",
            "Collecting pyngrok\n",
            "  Downloading pyngrok-7.2.11-py3-none-any.whl.metadata (9.4 kB)\n",
            "Requirement already satisfied: PyYAML>=5.1 in /usr/local/lib/python3.11/dist-packages (from pyngrok) (6.0.2)\n",
            "Downloading pyngrok-7.2.11-py3-none-any.whl (25 kB)\n",
            "Installing collected packages: pyngrok\n",
            "Successfully installed pyngrok-7.2.11\n"
          ]
        }
      ],
      "source": [
        "!pip install flask flask-ngrok\n",
        "!pip install pyngrok"
      ]
    },
    {
      "cell_type": "code",
      "execution_count": null,
      "metadata": {
        "colab": {
          "base_uri": "https://localhost:8080/"
        },
        "id": "Hp21xdSwtr5R",
        "outputId": "38e228ca-3883-46d4-a94d-29ee96fd2bb5"
      },
      "outputs": [
        {
          "output_type": "stream",
          "name": "stdout",
          "text": [
            "Authtoken saved to configuration file: /root/.config/ngrok/ngrok.yml\n"
          ]
        }
      ],
      "source": [
        "!ngrok authtoken 2mmhYeS0kbq3RG3mV29Zc8WkQ5r_5Bont8hJBZwFaRPKzEVt8"
      ]
    },
    {
      "cell_type": "code",
      "execution_count": null,
      "metadata": {
        "colab": {
          "base_uri": "https://localhost:8080/"
        },
        "id": "vXJctBhTt60z",
        "outputId": "89b7ad68-f6b8-461b-837c-de12ddb1215d"
      },
      "outputs": [
        {
          "output_type": "stream",
          "name": "stdout",
          "text": [
            " * ngrok tunnel \"NgrokTunnel: \"https://d87a-34-125-2-140.ngrok-free.app\" -> \"http://localhost:5000\"\" -> \"http://127.0.0.1:5000\"\n",
            " * Serving Flask app '__main__'\n",
            " * Debug mode: off\n"
          ]
        },
        {
          "output_type": "stream",
          "name": "stderr",
          "text": [
            "INFO:werkzeug:\u001b[31m\u001b[1mWARNING: This is a development server. Do not use it in a production deployment. Use a production WSGI server instead.\u001b[0m\n",
            " * Running on http://127.0.0.1:5000\n",
            "INFO:werkzeug:\u001b[33mPress CTRL+C to quit\u001b[0m\n"
          ]
        }
      ],
      "source": [
        "# Import necessary libraries\n",
        "from flask import Flask, request, render_template_string\n",
        "from pyngrok import ngrok\n",
        "\n",
        "# Create the Flask application\n",
        "app = Flask(__name__)\n",
        "\n",
        "# Define the HTML template for the flowchart web page\n",
        "HTML_TEMPLATE = \"\"\"\n",
        "<!DOCTYPE html>\n",
        "<html lang=\"en\">\n",
        "<head>\n",
        "    <meta charset=\"UTF-8\">\n",
        "    <meta name=\"viewport\" content=\"width=device-width, initial-scale=1.0\">\n",
        "    <title>Flowchart Creator</title>\n",
        "    <script type=\"module\">\n",
        "        import mermaid from 'https://cdn.jsdelivr.net/npm/mermaid@10/dist/mermaid.esm.min.mjs';\n",
        "        mermaid.initialize({ startOnLoad: true });\n",
        "    </script>\n",
        "    <style>\n",
        "        body {\n",
        "            font-family: Arial, sans-serif;\n",
        "            margin: 20px;\n",
        "        }\n",
        "        .container {\n",
        "            max-width: 800px;\n",
        "            margin: auto;\n",
        "        }\n",
        "        .form-input {\n",
        "            margin: 10px 0;\n",
        "        }\n",
        "        .flowchart {\n",
        "            border: 1px solid #ddd;\n",
        "            padding: 20px;\n",
        "            margin-top: 20px;\n",
        "        }\n",
        "    </style>\n",
        "</head>\n",
        "<body>\n",
        "    <div class=\"container\">\n",
        "        <h1>Flowchart Creator</h1>\n",
        "        <form method=\"POST\">\n",
        "            <div class=\"form-input\">\n",
        "                <label for=\"nodes\">Nodes (comma separated):</label><br>\n",
        "                <input type=\"text\" name=\"nodes\" placeholder=\"Start, Step1, Decision, End\" style=\"width: 100%;\">\n",
        "            </div>\n",
        "            <div class=\"form-input\">\n",
        "                <label for=\"edges\">Edges (Format: Start->Step1, Step1->Decision):</label><br>\n",
        "                <input type=\"text\" name=\"edges\" placeholder=\"Start->Step1, Step1->Decision, Decision->End\" style=\"width: 100%;\">\n",
        "            </div>\n",
        "            <button type=\"submit\">Create Flowchart</button>\n",
        "        </form>\n",
        "\n",
        "        {% if flowchart_code %}\n",
        "        <div class=\"flowchart\">\n",
        "            <h2>Generated Flowchart:</h2>\n",
        "            <div class=\"mermaid\">\n",
        "                {{ flowchart_code }}\n",
        "            </div>\n",
        "        </div>\n",
        "        {% elif error %}\n",
        "        <div style=\"color: red;\">\n",
        "            <h2>Error:</h2>\n",
        "            <p>{{ error }}</p>\n",
        "        </div>\n",
        "        {% endif %}\n",
        "    </div>\n",
        "</body>\n",
        "</html>\n",
        "\"\"\"\n",
        "\n",
        "# Define the home route to display the form and generate the flowchart\n",
        "@app.route(\"/\", methods=[\"GET\", \"POST\"])\n",
        "def home():\n",
        "    if request.method == \"POST\":\n",
        "        # Retrieve user inputs for nodes and edges\n",
        "        nodes_input = request.form.get(\"nodes\")\n",
        "        edges_input = request.form.get(\"edges\")\n",
        "\n",
        "        # Validate and process inputs\n",
        "        try:\n",
        "            nodes = [node.strip() for node in nodes_input.split(\",\") if node.strip()]\n",
        "            edges = [edge.strip() for edge in edges_input.split(\",\") if edge.strip()]\n",
        "\n",
        "            # Check if nodes and edges are in the correct format\n",
        "            if any(\"->\" not in edge for edge in edges):\n",
        "                raise ValueError(\"Edges must be in the format: Start->Step1, Step1->Decision, etc.\")\n",
        "\n",
        "            # Generate Mermaid.js syntax for the flowchart\n",
        "            flowchart_code = \"graph TD;\\n\"\n",
        "            for node in nodes:\n",
        "                flowchart_code += f\"{node}[{node}];\\n\"\n",
        "            for edge in edges:\n",
        "                start, end = edge.split(\"->\")\n",
        "                flowchart_code += f\"{start.strip()} --> {end.strip()};\\n\"\n",
        "\n",
        "            return render_template_string(HTML_TEMPLATE, flowchart_code=flowchart_code)\n",
        "        except ValueError as e:\n",
        "            return render_template_string(HTML_TEMPLATE, error=str(e))\n",
        "    return render_template_string(HTML_TEMPLATE)\n",
        "\n",
        "# Start the Flask app with ngrok\n",
        "if __name__ == \"__main__\":\n",
        "    # Create a public URL using ngrok\n",
        "    public_url = ngrok.connect(5000)\n",
        "    print(f\" * ngrok tunnel \\\"{public_url}\\\" -> \\\"http://127.0.0.1:5000\\\"\")\n",
        "\n",
        "    # Start the Flask app\n",
        "    app.run()"
      ]
    },
    {
      "cell_type": "code",
      "execution_count": null,
      "metadata": {
        "colab": {
          "base_uri": "https://localhost:8080/"
        },
        "id": "jSaJ68YGgSPm",
        "outputId": "4cf7f260-aab0-4b0f-fe25-42e85ad99b9d"
      },
      "outputs": [
        {
          "output_type": "stream",
          "name": "stdout",
          "text": [
            "Requirement already satisfied: flask in /usr/local/lib/python3.11/dist-packages (3.1.1)\n",
            "Requirement already satisfied: flask-ngrok in /usr/local/lib/python3.11/dist-packages (0.0.25)\n",
            "Requirement already satisfied: blinker>=1.9.0 in /usr/local/lib/python3.11/dist-packages (from flask) (1.9.0)\n",
            "Requirement already satisfied: click>=8.1.3 in /usr/local/lib/python3.11/dist-packages (from flask) (8.2.1)\n",
            "Requirement already satisfied: itsdangerous>=2.2.0 in /usr/local/lib/python3.11/dist-packages (from flask) (2.2.0)\n",
            "Requirement already satisfied: jinja2>=3.1.2 in /usr/local/lib/python3.11/dist-packages (from flask) (3.1.6)\n",
            "Requirement already satisfied: markupsafe>=2.1.1 in /usr/local/lib/python3.11/dist-packages (from flask) (3.0.2)\n",
            "Requirement already satisfied: werkzeug>=3.1.0 in /usr/local/lib/python3.11/dist-packages (from flask) (3.1.3)\n",
            "Requirement already satisfied: requests in /usr/local/lib/python3.11/dist-packages (from flask-ngrok) (2.32.3)\n",
            "Requirement already satisfied: charset-normalizer<4,>=2 in /usr/local/lib/python3.11/dist-packages (from requests->flask-ngrok) (3.4.2)\n",
            "Requirement already satisfied: idna<4,>=2.5 in /usr/local/lib/python3.11/dist-packages (from requests->flask-ngrok) (3.10)\n",
            "Requirement already satisfied: urllib3<3,>=1.21.1 in /usr/local/lib/python3.11/dist-packages (from requests->flask-ngrok) (2.4.0)\n",
            "Requirement already satisfied: certifi>=2017.4.17 in /usr/local/lib/python3.11/dist-packages (from requests->flask-ngrok) (2025.4.26)\n",
            "\u001b[31mERROR: Could not find a version that satisfies the requirement pyngr (from versions: none)\u001b[0m\u001b[31m\n",
            "\u001b[0m\u001b[31mERROR: No matching distribution found for pyngr\u001b[0m\u001b[31m\n",
            "\u001b[0m"
          ]
        }
      ],
      "source": [
        "!pip install flask flask-ngrok\n",
        "!pip install pyngr"
      ]
    },
    {
      "cell_type": "code",
      "execution_count": null,
      "metadata": {
        "colab": {
          "base_uri": "https://localhost:8080/"
        },
        "id": "DIfxOaW7gcQ1",
        "outputId": "2566e38a-6619-472b-ae5e-04cb928aba8c"
      },
      "outputs": [
        {
          "output_type": "stream",
          "name": "stdout",
          "text": [
            "Requirement already satisfied: flask in /usr/local/lib/python3.11/dist-packages (3.1.1)\n",
            "Requirement already satisfied: flask-ngrok in /usr/local/lib/python3.11/dist-packages (0.0.25)\n",
            "Requirement already satisfied: blinker>=1.9.0 in /usr/local/lib/python3.11/dist-packages (from flask) (1.9.0)\n",
            "Requirement already satisfied: click>=8.1.3 in /usr/local/lib/python3.11/dist-packages (from flask) (8.2.1)\n",
            "Requirement already satisfied: itsdangerous>=2.2.0 in /usr/local/lib/python3.11/dist-packages (from flask) (2.2.0)\n",
            "Requirement already satisfied: jinja2>=3.1.2 in /usr/local/lib/python3.11/dist-packages (from flask) (3.1.6)\n",
            "Requirement already satisfied: markupsafe>=2.1.1 in /usr/local/lib/python3.11/dist-packages (from flask) (3.0.2)\n",
            "Requirement already satisfied: werkzeug>=3.1.0 in /usr/local/lib/python3.11/dist-packages (from flask) (3.1.3)\n",
            "Requirement already satisfied: requests in /usr/local/lib/python3.11/dist-packages (from flask-ngrok) (2.32.3)\n",
            "Requirement already satisfied: charset-normalizer<4,>=2 in /usr/local/lib/python3.11/dist-packages (from requests->flask-ngrok) (3.4.2)\n",
            "Requirement already satisfied: idna<4,>=2.5 in /usr/local/lib/python3.11/dist-packages (from requests->flask-ngrok) (3.10)\n",
            "Requirement already satisfied: urllib3<3,>=1.21.1 in /usr/local/lib/python3.11/dist-packages (from requests->flask-ngrok) (2.4.0)\n",
            "Requirement already satisfied: certifi>=2017.4.17 in /usr/local/lib/python3.11/dist-packages (from requests->flask-ngrok) (2025.4.26)\n",
            "Requirement already satisfied: pyngrok in /usr/local/lib/python3.11/dist-packages (7.2.11)\n",
            "Requirement already satisfied: PyYAML>=5.1 in /usr/local/lib/python3.11/dist-packages (from pyngrok) (6.0.2)\n"
          ]
        }
      ],
      "source": [
        "!pip install flask flask-ngrok\n",
        "!pip install pyngrok"
      ]
    },
    {
      "cell_type": "code",
      "execution_count": null,
      "metadata": {
        "colab": {
          "base_uri": "https://localhost:8080/"
        },
        "id": "UAn9akGzgg1m",
        "outputId": "46ab0ec8-64d0-4e13-b151-7f99aa19c624"
      },
      "outputs": [
        {
          "output_type": "stream",
          "name": "stdout",
          "text": [
            "Authtoken saved to configuration file: /root/.config/ngrok/ngrok.yml\n"
          ]
        }
      ],
      "source": [
        "!ngrok authtoken 2mmhYeS0kbq3RG3mV29Zc8WkQ5r_5Bont8hJBZwFaRPKzEVt8"
      ]
    },
    {
      "cell_type": "code",
      "execution_count": null,
      "metadata": {
        "colab": {
          "base_uri": "https://localhost:8080/"
        },
        "id": "ysZoZMEbglc2",
        "outputId": "c4193855-0baf-4d07-c6ba-81129ca0ba6c"
      },
      "outputs": [
        {
          "output_type": "stream",
          "name": "stdout",
          "text": [
            " * ngrok tunnel \"NgrokTunnel: \"https://02ca-34-125-2-140.ngrok-free.app\" -> \"http://localhost:5000\"\" -> \"http://127.0.0.1:5000\"\n",
            " * Serving Flask app '__main__'\n",
            " * Debug mode: off\n"
          ]
        },
        {
          "output_type": "stream",
          "name": "stderr",
          "text": [
            "INFO:werkzeug:\u001b[31m\u001b[1mWARNING: This is a development server. Do not use it in a production deployment. Use a production WSGI server instead.\u001b[0m\n",
            " * Running on http://127.0.0.1:5000\n",
            "INFO:werkzeug:\u001b[33mPress CTRL+C to quit\u001b[0m\n",
            "INFO:werkzeug:127.0.0.1 - - [06/Jun/2025 10:55:09] \"GET / HTTP/1.1\" 200 -\n",
            "INFO:werkzeug:127.0.0.1 - - [06/Jun/2025 10:55:10] \"\u001b[33mGET /favicon.ico HTTP/1.1\u001b[0m\" 404 -\n"
          ]
        }
      ],
      "source": [
        "# Import necessary libraries\n",
        "from flask import Flask, request, render_template_string\n",
        "from pyngrok import ngrok\n",
        "\n",
        "# Create the Flask application\n",
        "app = Flask(__name__)\n",
        "\n",
        "# Define the HTML template for the flowchart web page\n",
        "HTML_TEMPLATE = \"\"\"\n",
        "<!DOCTYPE html>\n",
        "<html lang=\"en\">\n",
        "<head>\n",
        "    <meta charset=\"UTF-8\">\n",
        "    <meta name=\"viewport\" content=\"width=device-width, initial-scale=1.0\">\n",
        "    <title>Flowchart Creator</title>\n",
        "    <script type=\"module\">\n",
        "        import mermaid from 'https://cdn.jsdelivr.net/npm/mermaid@10/dist/mermaid.esm.min.mjs';\n",
        "        mermaid.initialize({ startOnLoad: true });\n",
        "    </script>\n",
        "    <style>\n",
        "        body {\n",
        "            font-family: Arial, sans-serif;\n",
        "            margin: 20px;\n",
        "        }\n",
        "        .container {\n",
        "            max-width: 800px;\n",
        "            margin: auto;\n",
        "        }\n",
        "        .form-input {\n",
        "            margin: 10px 0;\n",
        "        }\n",
        "        .flowchart {\n",
        "            border: 1px solid #ddd;\n",
        "            padding: 20px;\n",
        "            margin-top: 20px;\n",
        "        }\n",
        "    </style>\n",
        "</head>\n",
        "<body>\n",
        "    <div class=\"container\">\n",
        "        <h1>Flowchart Creator</h1>\n",
        "        <form method=\"POST\">\n",
        "            <div class=\"form-input\">\n",
        "                <label for=\"nodes\">Nodes (comma separated):</label><br>\n",
        "                <input type=\"text\" name=\"nodes\" placeholder=\"Start, Step1, Decision, End\" style=\"width: 100%;\">\n",
        "            </div>\n",
        "            <div class=\"form-input\">\n",
        "                <label for=\"edges\">Edges (Format: Start->Step1, Step1->Decision):</label><br>\n",
        "                <input type=\"text\" name=\"edges\" placeholder=\"Start->Step1, Step1->Decision, Decision->End\" style=\"width: 100%;\">\n",
        "            </div>\n",
        "            <button type=\"submit\">Create Flowchart</button>\n",
        "        </form>\n",
        "\n",
        "        {% if flowchart_code %}\n",
        "        <div class=\"flowchart\">\n",
        "            <h2>Generated Flowchart:</h2>\n",
        "            <div class=\"mermaid\">\n",
        "                {{ flowchart_code }}\n",
        "            </div>\n",
        "        </div>\n",
        "        {% elif error %}\n",
        "        <div style=\"color: red;\">\n",
        "            <h2>Error:</h2>\n",
        "            <p>{{ error }}</p>\n",
        "        </div>\n",
        "        {% endif %}\n",
        "    </div>\n",
        "</body>\n",
        "</html>\n",
        "\"\"\"\n",
        "\n",
        "# Define the home route to display the form and generate the flowchart\n",
        "@app.route(\"/\", methods=[\"GET\", \"POST\"])\n",
        "def home():\n",
        "    if request.method == \"POST\":\n",
        "        # Retrieve user inputs for nodes and edges\n",
        "        nodes_input = request.form.get(\"nodes\")\n",
        "        edges_input = request.form.get(\"edges\")\n",
        "\n",
        "        # Validate and process inputs\n",
        "        try:\n",
        "            nodes = [node.strip() for node in nodes_input.split(\",\") if node.strip()]\n",
        "            edges = [edge.strip() for edge in edges_input.split(\",\") if edge.strip()]\n",
        "\n",
        "            # Check if nodes and edges are in the correct format\n",
        "            if any(\"->\" not in edge for edge in edges):\n",
        "                raise ValueError(\"Edges must be in the format: Start->Step1, Step1->Decision, etc.\")\n",
        "\n",
        "            # Generate Mermaid.js syntax for the flowchart\n",
        "            flowchart_code = \"graph TD;\\n\"\n",
        "            for node in nodes:\n",
        "                flowchart_code += f\"{node}[{node}];\\n\"\n",
        "            for edge in edges:\n",
        "                start, end = edge.split(\"->\")\n",
        "                flowchart_code += f\"{start.strip()} --> {end.strip()};\\n\"\n",
        "\n",
        "            return render_template_string(HTML_TEMPLATE, flowchart_code=flowchart_code)\n",
        "        except ValueError as e:\n",
        "            return render_template_string(HTML_TEMPLATE, error=str(e))\n",
        "    return render_template_string(HTML_TEMPLATE)\n",
        "\n",
        "# Start the Flask app with ngrok\n",
        "if __name__ == \"__main__\":\n",
        "    # Create a public URL using ngrok\n",
        "    public_url = ngrok.connect(5000)\n",
        "    print(f\" * ngrok tunnel \\\"{public_url}\\\" -> \\\"http://127.0.0.1:5000\\\"\")\n",
        "\n",
        "    # Start the Flask app\n",
        "    app.run()"
      ]
    },
    {
      "cell_type": "code",
      "execution_count": null,
      "metadata": {
        "colab": {
          "base_uri": "https://localhost:8080/"
        },
        "id": "80-3LWZ3guMA",
        "outputId": "dcd99037-f7b0-4129-babb-15b6a70778c4"
      },
      "outputs": [
        {
          "name": "stdout",
          "output_type": "stream",
          "text": [
            " * ngrok tunnel \"NgrokTunnel: \"https://3b68-34-125-205-247.ngrok-free.app\" -> \"http://localhost:5000\"\" -> \"http://127.0.0.1:5000\"\n",
            " * Serving Flask app '__main__'\n",
            " * Debug mode: off\n"
          ]
        },
        {
          "name": "stderr",
          "output_type": "stream",
          "text": [
            "INFO:werkzeug:\u001b[31m\u001b[1mWARNING: This is a development server. Do not use it in a production deployment. Use a production WSGI server instead.\u001b[0m\n",
            " * Running on http://127.0.0.1:5000\n",
            "INFO:werkzeug:\u001b[33mPress CTRL+C to quit\u001b[0m\n"
          ]
        }
      ],
      "source": [
        "# Import necessary libraries\n",
        "from flask import Flask, request, render_template_string\n",
        "from pyngrok import ngrok\n",
        "\n",
        "# Create the Flask application\n",
        "app = Flask(__name__)\n",
        "\n",
        "# Define the HTML template for the flowchart web page\n",
        "HTML_TEMPLATE = \"\"\"\n",
        "<!DOCTYPE html>\n",
        "<html lang=\"en\">\n",
        "<head>\n",
        "    <meta charset=\"UTF-8\">\n",
        "    <meta name=\"viewport\" content=\"width=device-width, initial-scale=1.0\">\n",
        "    <title>Flowchart Creator</title>\n",
        "    <script type=\"module\">\n",
        "        import mermaid from 'https://cdn.jsdelivr.net/npm/mermaid@10/dist/mermaid.esm.min.mjs';\n",
        "        mermaid.initialize({ startOnLoad: true });\n",
        "    </script>\n",
        "    <style>\n",
        "        body {\n",
        "            font-family: Arial, sans-serif;\n",
        "            margin: 20px;\n",
        "        }\n",
        "        .container {\n",
        "            max-width: 800px;\n",
        "            margin: auto;\n",
        "        }\n",
        "        .form-input {\n",
        "            margin: 10px 0;\n",
        "        }\n",
        "        .flowchart {\n",
        "            border: 1px solid #ddd;\n",
        "            padding: 20px;\n",
        "            margin-top: 20px;\n",
        "        }\n",
        "    </style>\n",
        "</head>\n",
        "<body>\n",
        "    <div class=\"container\">\n",
        "        <h1>Flowchart Creator</h1>\n",
        "        <form method=\"POST\">\n",
        "            <div class=\"form-input\">\n",
        "                <label for=\"nodes\">Nodes (comma separated):</label><br>\n",
        "                <input type=\"text\" name=\"nodes\" placeholder=\"Start, Step1, Decision, End\" style=\"width: 100%;\">\n",
        "            </div>\n",
        "            <div class=\"form-input\">\n",
        "                <label for=\"edges\">Edges (Format: Start->Step1, Step1->Decision):</label><br>\n",
        "                <input type=\"text\" name=\"edges\" placeholder=\"Start->Step1, Step1->Decision, Decision->End\" style=\"width: 100%;\">\n",
        "            </div>\n",
        "            <button type=\"submit\">Create Flowchart</button>\n",
        "        </form>\n",
        "\n",
        "        {% if flowchart_code %}\n",
        "        <div class=\"flowchart\">\n",
        "            <h2>Generated Flowchart:</h2>\n",
        "            <div class=\"mermaid\">\n",
        "                {{ flowchart_code }}\n",
        "            </div>\n",
        "        </div>\n",
        "        {% elif error %}\n",
        "        <div style=\"color: red;\">\n",
        "            <h2>Error:</h2>\n",
        "            <p>{{ error }}</p>\n",
        "        </div>\n",
        "        {% endif %}\n",
        "    </div>\n",
        "</body>\n",
        "</html>\n",
        "\"\"\"\n",
        "\n",
        "# Define the home route to display the form and generate the flowchart\n",
        "@app.route(\"/\", methods=[\"GET\", \"POST\"])\n",
        "def home():\n",
        "    if request.method == \"POST\":\n",
        "        # Retrieve user inputs for nodes and edges\n",
        "        nodes_input = request.form.get(\"nodes\")\n",
        "        edges_input = request.form.get(\"edges\")\n",
        "\n",
        "        # Validate and process inputs\n",
        "        try:\n",
        "            nodes = [node.strip() for node in nodes_input.split(\",\") if node.strip()]\n",
        "            edges = [edge.strip() for edge in edges_input.split(\",\") if edge.strip()]\n",
        "\n",
        "            # Check if nodes and edges are in the correct format\n",
        "            if any(\"->\" not in edge for edge in edges):\n",
        "                raise ValueError(\"Edges must be in the format: Start->Step1, Step1->Decision, etc.\")\n",
        "\n",
        "            # Generate Mermaid.js syntax for the flowchart\n",
        "            flowchart_code = \"graph TD;\\n\"\n",
        "            for node in nodes:\n",
        "                flowchart_code += f\"{node}[{node}];\\n\"\n",
        "            for edge in edges:\n",
        "                start, end = edge.split(\"->\")\n",
        "                flowchart_code += f\"{start.strip()} --> {end.strip()};\\n\"\n",
        "\n",
        "            return render_template_string(HTML_TEMPLATE, flowchart_code=flowchart_code)\n",
        "        except ValueError as e:\n",
        "            return render_template_string(HTML_TEMPLATE, error=str(e))\n",
        "    return render_template_string(HTML_TEMPLATE)\n",
        "\n",
        "# Start the Flask app with ngrok\n",
        "if __name__ == \"__main__\":\n",
        "    # Create a public URL using ngrok\n",
        "    public_url = ngrok.connect(5000)\n",
        "    print(f\" * ngrok tunnel \\\"{public_url}\\\" -> \\\"http://127.0.0.1:5000\\\"\")\n",
        "\n",
        "    # Start the Flask app\n",
        "    app.run()"
      ]
    },
    {
      "cell_type": "code",
      "execution_count": null,
      "metadata": {
        "colab": {
          "background_save": true,
          "base_uri": "https://localhost:8080/"
        },
        "id": "uEtbCRtBhE0p",
        "outputId": "70829fe7-8e5e-4c1e-a76a-9bd612417cb5"
      },
      "outputs": [
        {
          "name": "stdout",
          "output_type": "stream",
          "text": [
            " * ngrok tunnel \"NgrokTunnel: \"https://1a07-34-125-205-247.ngrok-free.app\" -> \"http://localhost:5000\"\" -> \"http://127.0.0.1:5000\"\n",
            " * Serving Flask app '__main__'\n",
            " * Debug mode: off\n"
          ]
        },
        {
          "name": "stderr",
          "output_type": "stream",
          "text": [
            "INFO:werkzeug:\u001b[31m\u001b[1mWARNING: This is a development server. Do not use it in a production deployment. Use a production WSGI server instead.\u001b[0m\n",
            " * Running on http://127.0.0.1:5000\n",
            "INFO:werkzeug:\u001b[33mPress CTRL+C to quit\u001b[0m\n",
            "INFO:werkzeug:127.0.0.1 - - [02/Oct/2024 09:16:45] \"GET / HTTP/1.1\" 200 -\n",
            "INFO:werkzeug:127.0.0.1 - - [02/Oct/2024 09:16:46] \"\u001b[33mGET /favicon.ico HTTP/1.1\u001b[0m\" 404 -\n",
            "INFO:werkzeug:127.0.0.1 - - [02/Oct/2024 09:16:57] \"POST / HTTP/1.1\" 200 -\n"
          ]
        }
      ],
      "source": [
        "# Import necessary libraries\n",
        "from flask import Flask, request, render_template_string\n",
        "from pyngrok import ngrok\n",
        "\n",
        "# Create the Flask application\n",
        "app = Flask(__name__)\n",
        "\n",
        "# Define the HTML template for the flowchart web page\n",
        "HTML_TEMPLATE = \"\"\"\n",
        "<!DOCTYPE html>\n",
        "<html lang=\"en\">\n",
        "<head>\n",
        "    <meta charset=\"UTF-8\">\n",
        "    <meta name=\"viewport\" content=\"width=device-width, initial-scale=1.0\">\n",
        "    <title>Flowchart Creator</title>\n",
        "    <script type=\"module\">\n",
        "        import mermaid from 'https://cdn.jsdelivr.net/npm/mermaid@10/dist/mermaid.esm.min.mjs';\n",
        "        mermaid.initialize({ startOnLoad: true });\n",
        "    </script>\n",
        "    <style>\n",
        "        body {\n",
        "            font-family: Arial, sans-serif;\n",
        "            margin: 20px;\n",
        "        }\n",
        "        .container {\n",
        "            max-width: 800px;\n",
        "            margin: auto;\n",
        "        }\n",
        "        .form-input {\n",
        "            margin: 10px 0;\n",
        "        }\n",
        "        .flowchart {\n",
        "            border: 1px solid #ddd;\n",
        "            padding: 20px;\n",
        "            margin-top: 20px;\n",
        "        }\n",
        "    </style>\n",
        "</head>\n",
        "<body>\n",
        "    <div class=\"container\">\n",
        "        <h1>Flowchart Creator</h1>\n",
        "        <form method=\"POST\">\n",
        "            <div class=\"form-input\">\n",
        "                <label for=\"nodes\">Nodes (comma separated):</label><br>\n",
        "                <input type=\"text\" name=\"nodes\" placeholder=\"Start, Step1, Decision, End\" style=\"width: 100%;\">\n",
        "            </div>\n",
        "            <div class=\"form-input\">\n",
        "                <label for=\"edges\">Edges (Format: Start->Step1, Step1->Decision):</label><br>\n",
        "                <input type=\"text\" name=\"edges\" placeholder=\"Start->Step1, Step1->Decision, Decision->End\" style=\"width: 100%;\">\n",
        "            </div>\n",
        "            <button type=\"submit\">Create Flowchart</button>\n",
        "        </form>\n",
        "\n",
        "        {% if flowchart_code %}\n",
        "        <div class=\"flowchart\">\n",
        "            <h2>Generated Flowchart:</h2>\n",
        "            <div class=\"mermaid\">\n",
        "                {{ flowchart_code }}\n",
        "            </div>\n",
        "        </div>\n",
        "        {% elif error %}\n",
        "        <div style=\"color: red;\">\n",
        "            <h2>Error:</h2>\n",
        "            <p>{{ error }}</p>\n",
        "        </div>\n",
        "        {% endif %}\n",
        "    </div>\n",
        "</body>\n",
        "</html>\n",
        "\"\"\"\n",
        "\n",
        "# Define the home route to display the form and generate the flowchart\n",
        "@app.route(\"/\", methods=[\"GET\", \"POST\"])\n",
        "def home():\n",
        "    if request.method == \"POST\":\n",
        "        # Retrieve user inputs for nodes and edges\n",
        "        nodes_input = request.form.get(\"nodes\")\n",
        "        edges_input = request.form.get(\"edges\")\n",
        "\n",
        "        # Validate and process inputs\n",
        "        try:\n",
        "            nodes = [node.strip() for node in nodes_input.split(\",\") if node.strip()]\n",
        "            edges = [edge.strip() for edge in edges_input.split(\",\") if edge.strip()]\n",
        "\n",
        "            # Check if nodes and edges are in the correct format\n",
        "            if any(\"->\" not in edge for edge in edges):\n",
        "                raise ValueError(\"Edges must be in the format: Start->Step1, Step1->Decision, etc.\")\n",
        "\n",
        "            # Generate Mermaid.js syntax for the flowchart\n",
        "            flowchart_code = \"graph TD;\\n\"\n",
        "            for node in nodes:\n",
        "                flowchart_code += f\"{node}[{node}];\\n\"\n",
        "            for edge in edges:\n",
        "                start, end = edge.split(\"->\")\n",
        "                flowchart_code += f\"{start.strip()} --> {end.strip()};\\n\"\n",
        "\n",
        "            return render_template_string(HTML_TEMPLATE, flowchart_code=flowchart_code)\n",
        "        except ValueError as e:\n",
        "            return render_template_string(HTML_TEMPLATE, error=str(e))\n",
        "    return render_template_string(HTML_TEMPLATE)\n",
        "\n",
        "# Start the Flask app with ngrok\n",
        "if __name__ == \"__main__\":\n",
        "    # Create a public URL using ngrok\n",
        "    public_url = ngrok.connect(5000)\n",
        "    print(f\" * ngrok tunnel \\\"{public_url}\\\" -> \\\"http://127.0.0.1:5000\\\"\")\n",
        "\n",
        "    # Start the Flask app\n",
        "    app.run()"
      ]
    }
  ],
  "metadata": {
    "colab": {
      "provenance": [],
      "authorship_tag": "ABX9TyPMAqEUAUQ2pUR74h1Z4Kf5",
      "include_colab_link": true
    },
    "kernelspec": {
      "display_name": "Python 3",
      "name": "python3"
    },
    "language_info": {
      "name": "python"
    }
  },
  "nbformat": 4,
  "nbformat_minor": 0
}